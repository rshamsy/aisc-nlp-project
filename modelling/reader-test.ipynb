{
 "cells": [
  {
   "cell_type": "code",
   "execution_count": 1,
   "metadata": {},
   "outputs": [
    {
     "name": "stderr",
     "output_type": "stream",
     "text": [
      "02/27/2021 15:37:25 - INFO - faiss -   Loading faiss.\n",
      "02/27/2021 15:37:28 - INFO - farm.modeling.prediction_head -   Better speed can be achieved with apex installed from https://www.github.com/nvidia/apex .\n"
     ]
    }
   ],
   "source": [
    "from haystack.reader.farm import FARMReader"
   ]
  },
  {
   "cell_type": "code",
   "execution_count": 2,
   "metadata": {},
   "outputs": [],
   "source": [
    "# reader = FARMReader(model_name_or_path=\"deepset/xlm-roberta-large-squad2\")"
   ]
  },
  {
   "cell_type": "code",
   "execution_count": 3,
   "metadata": {},
   "outputs": [
    {
     "name": "stderr",
     "output_type": "stream",
     "text": [
      "02/27/2021 15:37:30 - INFO - farm.utils -   Using device: CPU \n",
      "02/27/2021 15:37:30 - INFO - farm.utils -   Number of GPUs: 0\n",
      "02/27/2021 15:37:30 - INFO - farm.utils -   Distributed Training: False\n",
      "02/27/2021 15:37:30 - INFO - farm.utils -   Automatic Mixed Precision: None\n",
      "02/27/2021 15:38:17 - WARNING - farm.modeling.prediction_head -   Some unused parameters are passed to the QuestionAnsweringHead. Might not be a problem. Params: {\"training\": false, \"num_labels\": 2, \"ph_output_type\": \"per_token_squad\", \"model_type\": \"span_classification\", \"label_tensor_name\": \"question_answering_label_ids\", \"label_list\": [\"start_token\", \"end_token\"], \"metric\": \"squad\", \"name\": \"QuestionAnsweringHead\"}\n",
      "02/27/2021 15:38:24 - WARNING - farm.utils -   ML Logging is turned off. No parameters, metrics or artifacts will be logged to MLFlow.\n",
      "02/27/2021 15:38:24 - INFO - farm.utils -   Using device: CPU \n",
      "02/27/2021 15:38:24 - INFO - farm.utils -   Number of GPUs: 0\n",
      "02/27/2021 15:38:24 - INFO - farm.utils -   Distributed Training: False\n",
      "02/27/2021 15:38:24 - INFO - farm.utils -   Automatic Mixed Precision: None\n",
      "02/27/2021 15:38:24 - INFO - farm.infer -   Got ya 15 parallel workers to do inference ...\n",
      "02/27/2021 15:38:24 - INFO - farm.infer -    0    0    0    0    0    0    0    0    0    0    0    0    0    0    0 \n",
      "02/27/2021 15:38:24 - INFO - farm.infer -   /w\\  /w\\  /w\\  /w\\  /w\\  /w\\  /w\\  /|\\  /w\\  /w\\  /w\\  /w\\  /w\\  /w\\  /|\\\n",
      "02/27/2021 15:38:24 - INFO - farm.infer -   /'\\  / \\  /'\\  /'\\  / \\  / \\  /'\\  /'\\  /'\\  /'\\  /'\\  /'\\  / \\  /'\\  /'\\\n",
      "02/27/2021 15:38:24 - INFO - farm.infer -                               \n"
     ]
    }
   ],
   "source": [
    "reader = FARMReader(model_name_or_path=\"./saved_model/\")\n"
   ]
  },
  {
   "cell_type": "code",
   "execution_count": null,
   "metadata": {},
   "outputs": [],
   "source": []
  }
 ],
 "metadata": {
  "kernelspec": {
   "display_name": "aisc-nlp",
   "language": "python",
   "name": "aisc-nlp"
  },
  "language_info": {
   "codemirror_mode": {
    "name": "ipython",
    "version": 3
   },
   "file_extension": ".py",
   "mimetype": "text/x-python",
   "name": "python",
   "nbconvert_exporter": "python",
   "pygments_lexer": "ipython3",
   "version": "3.8.6"
  }
 },
 "nbformat": 4,
 "nbformat_minor": 5
}
