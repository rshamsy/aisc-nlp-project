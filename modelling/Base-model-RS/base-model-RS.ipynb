{
 "cells": [
  {
   "cell_type": "code",
   "execution_count": 1,
   "id": "gothic-investor",
   "metadata": {},
   "outputs": [],
   "source": [
    "%%capture\n",
    "from transformers import pipeline, AutoTokenizer, AutoModelForQuestionAnswering\n",
    "import torch\n"
   ]
  },
  {
   "cell_type": "code",
   "execution_count": 2,
   "id": "duplicate-circus",
   "metadata": {},
   "outputs": [],
   "source": [
    "import mlflow"
   ]
  },
  {
   "cell_type": "markdown",
   "id": "comprehensive-stuart",
   "metadata": {},
   "source": [
    "## Packaging Model"
   ]
  },
  {
   "cell_type": "code",
   "execution_count": 3,
   "id": "concerned-program",
   "metadata": {},
   "outputs": [],
   "source": [
    "model_name = \"deepset/roberta-base-squad2\""
   ]
  },
  {
   "cell_type": "code",
   "execution_count": 4,
   "id": "national-wilderness",
   "metadata": {},
   "outputs": [],
   "source": [
    "tokenizer = AutoTokenizer.from_pretrained(model_name)\n",
    "model = AutoModelForQuestionAnswering.from_pretrained(model_name)\n",
    "nlp_pipeline = pipeline('question-answering', model=model, tokenizer=tokenizer)"
   ]
  },
  {
   "cell_type": "code",
   "execution_count": 5,
   "id": "numeric-pizza",
   "metadata": {},
   "outputs": [],
   "source": [
    "import pandas as pd\n",
    "\n",
    "question = \"Where does infrastructure impact the environment\"\n",
    "text2 = \"\"\"Environmental Sustainability (ES) Doing more with less Infrastructure impacts the \n",
    "environment where it is built. At AECOM, we take this seriously and are committed to being responsible stewards\n",
    "of the environments where we work and live, and of the future we imagine. Our commitment to sustainability goes \n",
    "beyond meeting client requirements and complying with environmental rules and regulations at the local, state/provincial \n",
    "and national levels. We seek to innovate and deliver solutions that are resilient to a dynamic and unpredictable world, \n",
    "reduce pollution, are environmentally sustainable and conserve resources.\"\"\"\n",
    "\n",
    "inp_df = pd.DataFrame([[text2, question]], columns=['context', 'question'])"
   ]
  },
  {
   "cell_type": "code",
   "execution_count": 1,
   "id": "numerical-karen",
   "metadata": {},
   "outputs": [],
   "source": [
    "artifacts_path = \"/Users/MHK/Documents/Software/nlp-aisc/aisc-nlp-project/modelling-notebooks/Base-model-RS/artifacts\"\n",
    "\n",
    "folder_path = \"/Users/MHK/Documents/Software/nlp-aisc/aisc-nlp-project/flask-app/models/M0p1-mlpyfunc\"\n",
    "\n",
    "mlflow_path = f\"{folder_path}\"\n",
    "\n",
    "conda_env_path = f'{artifacts_path}/../base-model-RS.yml'\n",
    "data_path = f\"{artifacts_path}\"\n",
    "\n",
    "\n",
    "# Had code here to package using mlflow, but got deleted for some reason when running model in this notebook. Get from \n",
    "# other notebook... \n"
   ]
  },
  {
   "cell_type": "code",
   "execution_count": 4,
   "id": "architectural-executive",
   "metadata": {},
   "outputs": [],
   "source": [
    "mlflow_model = mlflow.pyfunc.load_model(mlflow_path)"
   ]
  },
  {
   "cell_type": "code",
   "execution_count": null,
   "id": "several-uganda",
   "metadata": {},
   "outputs": [],
   "source": [
    "mlflow_model.predict(inp_df)['answer']"
   ]
  },
  {
   "cell_type": "code",
   "execution_count": null,
   "id": "outside-illinois",
   "metadata": {},
   "outputs": [],
   "source": []
  }
 ],
 "metadata": {
  "kernelspec": {
   "display_name": "aisc-base-model-RS",
   "language": "python",
   "name": "aisc-base-model-rs"
  },
  "language_info": {
   "codemirror_mode": {
    "name": "ipython",
    "version": 3
   },
   "file_extension": ".py",
   "mimetype": "text/x-python",
   "name": "python",
   "nbconvert_exporter": "python",
   "pygments_lexer": "ipython3",
   "version": "3.8.5"
  },
  "toc": {
   "base_numbering": 1,
   "nav_menu": {},
   "number_sections": true,
   "sideBar": true,
   "skip_h1_title": false,
   "title_cell": "Table of Contents",
   "title_sidebar": "Contents",
   "toc_cell": false,
   "toc_position": {},
   "toc_section_display": true,
   "toc_window_display": false
  },
  "varInspector": {
   "cols": {
    "lenName": 16,
    "lenType": 16,
    "lenVar": 40
   },
   "kernels_config": {
    "python": {
     "delete_cmd_postfix": "",
     "delete_cmd_prefix": "del ",
     "library": "var_list.py",
     "varRefreshCmd": "print(var_dic_list())"
    },
    "r": {
     "delete_cmd_postfix": ") ",
     "delete_cmd_prefix": "rm(",
     "library": "var_list.r",
     "varRefreshCmd": "cat(var_dic_list()) "
    }
   },
   "types_to_exclude": [
    "module",
    "function",
    "builtin_function_or_method",
    "instance",
    "_Feature"
   ],
   "window_display": false
  }
 },
 "nbformat": 4,
 "nbformat_minor": 5
}
