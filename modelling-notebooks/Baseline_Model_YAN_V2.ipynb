{
 "cells": [
  {
   "cell_type": "code",
   "execution_count": null,
   "id": "solved-conclusion",
   "metadata": {},
   "outputs": [],
   "source": []
  },
  {
   "cell_type": "code",
   "execution_count": 4,
   "id": "offensive-lafayette",
   "metadata": {},
   "outputs": [
    {
     "name": "stderr",
     "output_type": "stream",
     "text": [
      "2021-02-13 19:28:34,101 [MainThread  ] [WARNI]  Failed to see startup log message; retrying...\n"
     ]
    },
    {
     "data": {
      "text/html": [
       "<div>\n",
       "<style scoped>\n",
       "    .dataframe tbody tr th:only-of-type {\n",
       "        vertical-align: middle;\n",
       "    }\n",
       "\n",
       "    .dataframe tbody tr th {\n",
       "        vertical-align: top;\n",
       "    }\n",
       "\n",
       "    .dataframe thead th {\n",
       "        text-align: right;\n",
       "    }\n",
       "</style>\n",
       "<table border=\"1\" class=\"dataframe\">\n",
       "  <thead>\n",
       "    <tr style=\"text-align: right;\">\n",
       "      <th></th>\n",
       "      <th>title</th>\n",
       "      <th>paragraphs</th>\n",
       "    </tr>\n",
       "  </thead>\n",
       "  <tbody>\n",
       "    <tr>\n",
       "      <th>0</th>\n",
       "      <td>4744b502b75a9621a66344c981bed61c</td>\n",
       "      <td>[Environmental Report2019, Google Environmenta...</td>\n",
       "    </tr>\n",
       "  </tbody>\n",
       "</table>\n",
       "</div>"
      ],
      "text/plain": [
       "                              title  \\\n",
       "0  4744b502b75a9621a66344c981bed61c   \n",
       "\n",
       "                                          paragraphs  \n",
       "0  [Environmental Report2019, Google Environmenta...  "
      ]
     },
     "execution_count": 4,
     "metadata": {},
     "output_type": "execute_result"
    }
   ],
   "source": [
    "from cdqa.utils.converters import pdf_converter\n",
    "\n",
    "df = pdf_converter(directory_path='./disclosure-docs/')\n",
    "df"
   ]
  },
  {
   "cell_type": "code",
   "execution_count": 5,
   "id": "vulnerable-gallery",
   "metadata": {},
   "outputs": [
    {
     "name": "stdout",
     "output_type": "stream",
     "text": [
      "Downloading SQuAD v1.1 data...\n",
      "\n",
      "Downloading SQuAD v2.0 data...\n",
      "\n",
      "Downloading BNP data...\n",
      "\n",
      "Downloading trained model...\n",
      "bert_qa.joblib already downloaded\n"
     ]
    }
   ],
   "source": [
    "from cdqa.utils.download import download_squad, download_model, download_bnpp_data\n",
    "\n",
    "directory = './models/'\n",
    "\n",
    "# Downloading data\n",
    "download_squad(dir=directory)\n",
    "download_bnpp_data(dir=directory)\n",
    "\n",
    "# Downloading pre-trained BERT fine-tuned on SQuAD 1.1\n",
    "download_model('bert-squad_1.1', dir=directory)"
   ]
  },
  {
   "cell_type": "code",
   "execution_count": 8,
   "id": "regular-litigation",
   "metadata": {},
   "outputs": [
    {
     "data": {
      "text/plain": [
       "QAPipeline(reader=BertQA(adam_epsilon=1e-08, bert_model='bert-base-uncased',\n",
       "                         do_lower_case=True, fp16=False,\n",
       "                         gradient_accumulation_steps=1, learning_rate=5e-05,\n",
       "                         local_rank=-1, loss_scale=0, max_answer_length=30,\n",
       "                         n_best_size=20, no_cuda=False,\n",
       "                         null_score_diff_threshold=0.0, num_train_epochs=3.0,\n",
       "                         output_dir=None, predict_batch_size=8, seed=42,\n",
       "                         server_ip='', server_po...size=8,\n",
       "                         verbose_logging=False, version_2_with_negative=False,\n",
       "                         warmup_proportion=0.1, warmup_steps=0),\n",
       "           retrieve_by_doc=False,\n",
       "           retriever=BM25Retriever(b=0.75, floor=None, k1=2.0, lowercase=True,\n",
       "                                   max_df=0.85, min_df=2, ngram_range=(1, 2),\n",
       "                                   preprocessor=None, stop_words='english',\n",
       "                                   token_pattern='(?u)\\\\b\\\\w\\\\w+\\\\b',\n",
       "                                   tokenizer=None, top_n=20, verbose=False,\n",
       "                                   vocabulary=None))"
      ]
     },
     "execution_count": 8,
     "metadata": {},
     "output_type": "execute_result"
    }
   ],
   "source": [
    "import pandas as pd\n",
    "from ast import literal_eval\n",
    "from cdqa.pipeline import QAPipeline\n",
    "\n",
    "# df = pd.read_csv('your-custom-corpus-here.csv', converters={'paragraphs': literal_eval})\n",
    "\n",
    "cdqa_pipeline = QAPipeline(reader='./models/bert_qa.joblib') # use 'distilbert_qa.joblib' for DistilBERT instead of BERT\n",
    "cdqa_pipeline.fit_retriever(df=df)"
   ]
  },
  {
   "cell_type": "code",
   "execution_count": null,
   "id": "after-alarm",
   "metadata": {},
   "outputs": [],
   "source": [
    "# cdqa_pipeline = QAPipeline(reader='bert_qa.joblib') # use 'distilbert_qa.joblib' for DistilBERT instead of BERT\n",
    "# cdqa_pipeline.fit_reader('path-to-custom-squad-like-dataset.json')"
   ]
  },
  {
   "cell_type": "code",
   "execution_count": null,
   "id": "systematic-winter",
   "metadata": {},
   "outputs": [],
   "source": [
    "# cdqa_pipeline.dump_reader('path-to-save-bert-reader.joblib')"
   ]
  },
  {
   "cell_type": "code",
   "execution_count": 14,
   "id": "raised-subcommittee",
   "metadata": {},
   "outputs": [],
   "source": [
    "question = \"Are there any climate-related risks with the potential to have a substantive financial or strategic impact?\"\n",
    "N = 5\n",
    "weight = 0.35"
   ]
  },
  {
   "cell_type": "code",
   "execution_count": 15,
   "id": "adequate-asbestos",
   "metadata": {},
   "outputs": [
    {
     "data": {
      "text/plain": [
       "[('climate-related risks',\n",
       "  '4744b502b75a9621a66344c981bed61c',\n",
       "  'As per recommendations from the Financial Stability Board’s Task Force on Climate-related Financial Disclosures, we have reported our exposure to climate-related risks over multiple time horizons in Alphabet’s 2019 CDP ',\n",
       "  10.175326076086291),\n",
       " ('Economic Impact',\n",
       "  '4744b502b75a9621a66344c981bed61c',\n",
       "  'Economic\\tImpact',\n",
       "  3.4795718762745276),\n",
       " ('continued greenhouse gas emissions pose an existential threat',\n",
       "  '4744b502b75a9621a66344c981bed61c',\n",
       "  'Climate change is one of the most significant global challenges of our time, and continued greenhouse gas emissions pose an existential threat to humanity. The science behind this is clear, and recent reports have stressed the urgency of the issue. In 2018, the Intergovernmental Panel on Climate ',\n",
       "  3.45815670358754),\n",
       " ('the greatest potential risk.',\n",
       "  '4744b502b75a9621a66344c981bed61c',\n",
       "  'Water is another top priority. The United Nations predicts that by 2025, two-thirds of the world’s population could live in water-stressed conditions, and with the existing climate change scenario, almost half the world’s population will be living in areas of high water stress by 2030.10 As a global company headquartered in drought-prone California, we’ve established a set of water principles to guide our approach to water use and ensure business continuity, especially in the places where we have the greatest potential risk. ',\n",
       "  2.745249011491584),\n",
       " ('solar energy potential, and climate projections.',\n",
       "  '4744b502b75a9621a66344c981bed61c',\n",
       "  'Sunroof, to surface insights across four categories: building emissions, transportation emissions, solar energy potential, and climate projections. ',\n",
       "  2.5671674945847336)]"
      ]
     },
     "execution_count": 15,
     "metadata": {},
     "output_type": "execute_result"
    }
   ],
   "source": [
    "cdqa_pipeline.predict(query=question, n_predictions=N, retriever_score_weight=weight)"
   ]
  },
  {
   "cell_type": "code",
   "execution_count": null,
   "id": "theoretical-return",
   "metadata": {},
   "outputs": [],
   "source": []
  }
 ],
 "metadata": {
  "kernelspec": {
   "display_name": "Python 3",
   "language": "python",
   "name": "python3"
  },
  "language_info": {
   "codemirror_mode": {
    "name": "ipython",
    "version": 3
   },
   "file_extension": ".py",
   "mimetype": "text/x-python",
   "name": "python",
   "nbconvert_exporter": "python",
   "pygments_lexer": "ipython3",
   "version": "3.7.9"
  }
 },
 "nbformat": 4,
 "nbformat_minor": 5
}
